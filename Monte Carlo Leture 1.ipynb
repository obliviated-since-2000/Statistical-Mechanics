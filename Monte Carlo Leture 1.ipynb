{
 "cells": [
  {
   "cell_type": "markdown",
   "metadata": {},
   "source": [
    "These would be my lecture notes of the course that I had, previously, been taking on Coursera. "
   ]
  },
  {
   "cell_type": "markdown",
   "metadata": {},
   "source": [
    "# MONTE CARLO METHOD \n",
    "\n",
    "**Monte Carlo Method** is a statistical apporach to computing integrals using random positions, called **samples**,  whose distribution is carefully chosen. \n",
    "This mthod is extremely general and we can solve any problem in statistical physics using it.\n",
    "\n",
    "The Latin word for a *pebble* is *calculus*... WOW!"
   ]
  },
  {
   "cell_type": "markdown",
   "metadata": {},
   "source": [
    "## Direct Sampling\n",
    "\n",
    "Aim : To calculate pi using a game in which pebbles are thrown towards a circle insrcribed in a square.\n",
    "     \n",
    "Necssary Definitions:\n",
    "1. Trial: Each pebble falling inside the square\n",
    "2. Hit : Each pebble falling inside the circle\n",
    "\n",
    "Direct Sampling Monte Carlo Calculation : The ratio of hits to trials is close to the ratio of areas of the                                               circle and the square, i.e $\\frac{\\pi}{4}$.\n",
    "\n",
    "Pseudocode : \n",
    "\n",
    "   Procedure : TO calculate $\\pi$ using N pebbles <br />\n",
    "   Initialise: $N_{HITS} \\leftarrow 0$ <br />\n",
    "   Algorithm : for i = 1, ..., N\n",
    "               do{\n",
    "                      x $\\leftarrow$ ran (-1, 1)\n",
    "                      y $\\leftarrow$ ran (-1, 1)\n",
    "                      \n",
    "                      if(x$^2$ + y$^2$ < 1)\n",
    "                          $N_{HITS} \\leftarrow N_{HITS} + 1$\n",
    "                  }\n",
    "                  \n",
    "    Output : $N_{HITS}$\n",
    "    \n",
    "    \n",
    "The, hence, obtained value of $\\pi$ is approximate, and finally becomes exact when the number of trials tend to infinity. Also known as **Jacob Bernoulli's weak law of large numbers**\n",
    "                          "
   ]
  },
  {
   "cell_type": "code",
   "execution_count": 47,
   "metadata": {},
   "outputs": [
    {
     "name": "stdout",
     "output_type": "stream",
     "text": [
      "Enter the number of trials : 2000\n",
      "3.114\n"
     ]
    }
   ],
   "source": [
    "# Calculating pi with Direct Sampling\n",
    "\n",
    "import random\n",
    "\n",
    "n_trials = int(input(\"Enter the number of trials : \"))\n",
    "\n",
    "n_hits = 0 #Defining the number of hits\n",
    "\n",
    "list_xy = []\n",
    "\n",
    "for i in range(n_trials):\n",
    "    x, y = random.uniform(-1, 1), random.uniform(-1, 1)\n",
    "    list_xy.append((x,y))\n",
    "    \n",
    "    if(x**2 + y**2 < 1):\n",
    "        n_hits += 1 \n",
    "\n",
    "print(4* n_hits/float(n_trials))\n",
    "    \n",
    "    "
   ]
  },
  {
   "cell_type": "markdown",
   "metadata": {},
   "source": [
    "A stochastic calculation must not be stopped if we think that the result is just right, or the result is completely wrong!"
   ]
  },
  {
   "cell_type": "markdown",
   "metadata": {},
   "source": [
    "## Markov - chain sampling\n",
    "\n",
    "Comes into play when the direct sampling fails .\n",
    "\n",
    "The probability of generating i+1 configuration depends only on the ith configuragtion and not on any earlier configurations.\n",
    "\n",
    "\n",
    "Verbatim : <br />\n",
    "    \"The playing field is much wider than before. Therefore, the game must\n",
    "be modified. Each player starts at the clubhouse, with their expensive\n",
    "designer handbags filled with pebbles. With closed eyes, they throw the\n",
    "first little stone in a random direction, and then they walk to where this\n",
    "stone has landed. At that position, a new pebble is fetched from the\n",
    "handbag, and a new throw follows. As before, the aim of the game is to\n",
    "sweep out the heliport square evenly in order to compute the number ,\n",
    "but the distance players can cover from where they stand is much smaller\n",
    "than the dimensions of the field. A problem arises whenever there is a\n",
    "rejection, as in the case of a lady with closed eyes at a point c near the\n",
    "boundary of the square-shaped domain, who has just thrown a pebble to\n",
    "a position outside the landing pad. It is not easy to understand whether\n",
    "she should simply move on, or climb the fence and continue until, by\n",
    "accident, she returns to the heliport.\n",
    "What the lady should do, after a throw outside the heliport, is very\n",
    "surprising: where she stands, there is already a pebble on the ground.\n",
    "She should now ask someone to bring her the “outfielder”, place it on\n",
    "top of the stone already on the ground, and use a new stone to try\n",
    "another fling. If this is again an “outfielder”, she should have it fetched\n",
    "and increase the pile by one again, etc. Eventually, the lady moves on,\n",
    "visits other areas of the heliport, and also gets close to the center, which\n",
    "is without rejections.\"\n",
    "\n",
    "After several trials, there might be a strange pattern on the field. Far inside the square there are single stones but close to the boundaries and the corners one could see several piles of stones.\n"
   ]
  },
  {
   "cell_type": "markdown",
   "metadata": {},
   "source": [
    "The throwing range $\\delta$, that is to be kept fixed throughout the simulation, should not be made too small: for $\\delta \\gtrapprox 0$, the acceptance rate is high, but the path traveled per step is small. On the other hand, if $ \\delta$ is too large, we also run into problems: for a large range $\\delta \\gg 1$, most moves would take us outside the field.\n",
    "\n",
    "Therefore $\\delta$ should be neither too small nor too large. We must keep in mind that the acceptance rate should be 0.5 . "
   ]
  },
  {
   "cell_type": "markdown",
   "metadata": {},
   "source": [
    "Aim : To calculate $\\pi$ using Markov-chain sampling <br />\n",
    "Initialise: $N_{HITS} \\leftarrow 0; \\{x, y\\} \\leftarrow \\{1, 1\\}$\n",
    "Algorithm : \n",
    "\n",
    "for i =1, ..., N do <br />\n",
    "     $\\vartriangle_x \\leftarrow$ ran$(-\\delta, \\delta)$\n",
    "     $\\vartriangle_y \\leftarrow$ ran$(-\\delta, \\delta)$\n",
    "     \n",
    "     if($|x +\\vartraingle_x| < 1$ and $ |y + \\vartriangle_y| <1$) then \n",
    "         {   $x \\leftarrow x + \\vartriangle_x\n",
    "             $y \\leftarrow y + \\vartriangle_y}\n",
    "     \n",
    "     if( ($x^2 + y^2 < 1$))\n",
    "        $ N_{HITS} \\leftarrow N_{HITS} +1$\n",
    "\n",
    "Output : $N_{HITS}$"
   ]
  },
  {
   "cell_type": "code",
   "execution_count": 52,
   "metadata": {},
   "outputs": [
    {
     "name": "stdout",
     "output_type": "stream",
     "text": [
      "Enter the number of trials : 999999\n",
      "3.1367951367951368\n"
     ]
    }
   ],
   "source": [
    "#Calculating pi with Markov sampling\n",
    "\n",
    "import random\n",
    "\n",
    "n_trials = int(input(\"Enter the number of trials : \"))\n",
    "\n",
    "x, y = 1, 1\n",
    "delta = 0.1\n",
    "n_hits = 0\n",
    "\n",
    "for i in range(n_trials):\n",
    "    del_x = random.uniform(-delta, delta)\n",
    "    del_y = random.uniform(-delta, delta)\n",
    "    \n",
    "    if(abs(x + del_x) < 1 and abs(y + del_y) < 1 ):\n",
    "        x, y = x + del_x, y + del_y\n",
    "    \n",
    "    if(x**2 + y**2 < 1 ):\n",
    "        n_hits += 1\n",
    "        \n",
    "print(4.0 * n_hits/ float(n_trials))"
   ]
  },
  {
   "cell_type": "markdown",
   "metadata": {},
   "source": [
    "Both Markov and Direct sampling methods are used to find the sampling probability distribution $\\pi$(**x**) on a discrete or a continuous space, and hence evaluate an observable function O(**x**) (*which is 1 inside the circle and 0 elsewhere*).\n",
    "We evaluate \n",
    "$$\\frac{N_{HITS}}{trials} = \\frac{1}{N}\\sum_{i = 1}^{N} O_i \\approx \\frac{\\int_{-1}^{1} dx \\int_{-1}^{1}dy \\pi(x,y)O(x,y)}{\\int_{-1}^{1}dx \\int_{-1}^{1}dy \\pi(x,y)} $$\n",
    "\n",
    "\n",
    "Monte Carlo method allows the integation of higher order integrals only if we know how to generate samples.\n",
    "\n"
   ]
  },
  {
   "cell_type": "markdown",
   "metadata": {},
   "source": [
    "## Discrete Analog of Markov- chain sampling\n",
    "    _| _ _ _ | _ _ _ | _ _ _ |_ \n",
    "     |       |       |       |  \n",
    "     |   1   |   2   |   3   |\n",
    "    _| _ _ _ | _ _ _ | _ _ _ |_\n",
    "     |       |       |       |\n",
    "     |   4   |   5   |   6   |\n",
    "    _| _ _ _ | _ _ _ | _ _ _ |_\n",
    "     |       |       |       |  \n",
    "     |   7   |   8   |   9   |\n",
    "    _| _ _ _ | _ _ _ | _ _ _ |_\n",
    "     |       |       |       |\n",
    "     \n",
    "     \n",
    "Let there be a pebble in any of the squares present in the aforementioned 3x3 grid. The pebble can move in, atmost, 4 directions. Our aim is to find an algorithm for the moving pebble (one step movement) such that after many iterations, it appears with the same probability in each of the fields. \n",
    "\n",
    "\n",
    "    _| _ _ _ | _ _ _ | _ _ _ |_  Configuration a in which the pebble is at the corner square 3\n",
    "     |       |       |       |   Now, this configuration is in contact with 2 other configurations b and c,\n",
    "     |   1   |   2   |  P3P  |   i.e. the pebble at suqre 2 and 6 respectively.\n",
    "    _| _ _ _ | _ _ _ | _ _ _ |_\n",
    "     |       |       |       |\n",
    "     |   4   |   5   |   6   |          \n",
    "    _| _ _ _ | _ _ _ | _ _ _ |_\n",
    "     |       |       |       |  \n",
    "     |   7   |   8   |   9   |\n",
    "    _| _ _ _ | _ _ _ | _ _ _ |_\n",
    "     |       |       |       |\n",
    "     \n",
    "The algorithm that we are looking for must generate the configurations a, b, and c with prescribed probabilities $\\pi(a)$, $\\pi(b)$ and $\\pi(c)$, which in this case must be equal... i.e. we haven't alotted any weights to the specific squares.\n",
    "     \n",
    "Therefore, effectively, we have to find a set of transitions probabilities, say $p(a \\rightarrow b), for moving from one configuration to other, say from a to b.\n",
    "\n",
    "Further we enforce a normalization condition that says that the pebble at, say a, can either stay there or move to b or c, i.e. $$p(a \\rightarrow a) + p(a \\rightarrow b) + p(a \\rightarrow c) = 1 \\implies p(a \\rightarrow b) + p(a \\rightarrow c) = 1 - p(a \\rightarrow a) $$\n",
    "\n",
    "Effectively, we get $$\\pi(a) = \\pi(b)p(b \\rightarrow a) + \\pi(c)p(c \\rightarrow a) + \\pi(a)p(a \\rightarrow a)$$\n",
    "Which says that the configuration a can be only generated from configuration b and configuration c or from itself.\n",
    "\n",
    "On further simplification we get\n",
    "$$\\pi(a)[1 - p(a \\rightarrow a) ] =  \\pi(b)p(b \\rightarrow a) + \\pi(c)p(c \\rightarrow a) \\implies \\pi(a)[p(a \\rightarrow b) + p(a \\rightarrow c)] =  \\pi(b)p(b \\rightarrow a) + \\pi(c)p(c \\rightarrow a)  $$\n",
    "\n",
    "This equation could be only satisfied if :\n",
    "$$\\pi(a)p(a \\rightarrow b) = \\pi(b)p(b \\rightarrow a)$$\n",
    "$$\\pi(a)p(a \\rightarrow c) = \\pi(c)p(c \\rightarrow a)$$\n",
    "\n",
    "In other words, this is known as the **Rate Equation**"
   ]
  },
  {
   "cell_type": "code",
   "execution_count": null,
   "metadata": {},
   "outputs": [],
   "source": []
  },
  {
   "cell_type": "code",
   "execution_count": null,
   "metadata": {},
   "outputs": [],
   "source": []
  }
 ],
 "metadata": {
  "kernelspec": {
   "display_name": "Python 3",
   "language": "python",
   "name": "python3"
  },
  "language_info": {
   "codemirror_mode": {
    "name": "ipython",
    "version": 3
   },
   "file_extension": ".py",
   "mimetype": "text/x-python",
   "name": "python",
   "nbconvert_exporter": "python",
   "pygments_lexer": "ipython3",
   "version": "3.5.2"
  }
 },
 "nbformat": 4,
 "nbformat_minor": 2
}
